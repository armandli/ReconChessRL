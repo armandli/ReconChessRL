{
 "cells": [
  {
   "cell_type": "code",
   "execution_count": 1,
   "id": "e0f6a51f",
   "metadata": {},
   "outputs": [],
   "source": [
    "import torch\n",
    "from senseis.learning.rc_qconfig import NFSPConfig\n",
    "from senseis.learning.rc_nfsp_trainer1 import RCNFSPTrainer1\n",
    "from senseis.reporters.rc_reporter import RCEpisodicReporter"
   ]
  },
  {
   "cell_type": "code",
   "execution_count": 2,
   "id": "6da1255d",
   "metadata": {},
   "outputs": [],
   "source": [
    "use_cuda = torch.cuda.is_available()\n",
    "device = torch.device('cuda' if use_cuda else 'cpu')\n",
    "cpu = torch.device('cpu')"
   ]
  },
  {
   "cell_type": "code",
   "execution_count": 5,
   "id": "c566f31f",
   "metadata": {},
   "outputs": [],
   "source": [
    "config = NFSPConfig(\n",
    "    device=device,\n",
    "    action_alpha_model_filename='../models/rc_action_alpha_model_v7',\n",
    "    action_beta_model_filename='../models/rc_action_beta_model_v7',\n",
    "    sense_model_filename='../models/rc_sense_model_v7.pt',\n",
    "    episodes=2048,\n",
    "    iterations=2,\n",
    "    eb_size=256,\n",
    "    batchsize=128,\n",
    "    learning_rate=0.0001,\n",
    "    weight_decay=0.000001,\n",
    "    pg_epsilon=0.00000001,\n",
    "    mu=0.2,\n",
    "    action_alpha_hidden_size=384,\n",
    "    action_beta_hidden_size=384,\n",
    "    sense_hidden_size=384,\n",
    ")"
   ]
  },
  {
   "cell_type": "code",
   "execution_count": 6,
   "id": "071303c8",
   "metadata": {},
   "outputs": [],
   "source": [
    "reporter = RCEpisodicReporter(config.batchsize, 1, 1)"
   ]
  },
  {
   "cell_type": "code",
   "execution_count": 7,
   "id": "534fef25",
   "metadata": {},
   "outputs": [],
   "source": [
    "trainer = RCNFSPTrainer1(config, reporter)"
   ]
  },
  {
   "cell_type": "code",
   "execution_count": null,
   "id": "c6a3f05c",
   "metadata": {},
   "outputs": [],
   "source": [
    "trainer.train()"
   ]
  }
 ],
 "metadata": {
  "kernelspec": {
   "display_name": "Python 3 (ipykernel)",
   "language": "python",
   "name": "python3"
  },
  "language_info": {
   "codemirror_mode": {
    "name": "ipython",
    "version": 3
   },
   "file_extension": ".py",
   "mimetype": "text/x-python",
   "name": "python",
   "nbconvert_exporter": "python",
   "pygments_lexer": "ipython3",
   "version": "3.8.1"
  }
 },
 "nbformat": 4,
 "nbformat_minor": 5
}
