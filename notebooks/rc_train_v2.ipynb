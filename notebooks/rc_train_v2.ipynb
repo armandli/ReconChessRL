{
 "cells": [
  {
   "cell_type": "code",
   "execution_count": 2,
   "id": "f35e9046",
   "metadata": {},
   "outputs": [],
   "source": [
    "import torch\n",
    "from senseis.learning.rc_qconfig import EGParams, QConfig\n",
    "from senseis.learning.rc_qtrainer2 import RCQTrainer2\n",
    "from senseis.reporters.rc_reporter import RCEpisodicReporter"
   ]
  },
  {
   "cell_type": "code",
   "execution_count": 3,
   "id": "0613e1f7",
   "metadata": {},
   "outputs": [],
   "source": [
    "use_cuda = torch.cuda.is_available()\n",
    "device = torch.device('cuda' if use_cuda else 'cpu')\n",
    "cpu = torch.device('cpu')"
   ]
  },
  {
   "cell_type": "code",
   "execution_count": null,
   "id": "1e3d4881",
   "metadata": {},
   "outputs": [],
   "source": []
  },
  {
   "cell_type": "code",
   "execution_count": 4,
   "id": "5138476f",
   "metadata": {},
   "outputs": [],
   "source": [
    "action_model_filename = '../models/rc_action_model2.pt'\n",
    "sense_model_filename = '../models/rc_sense_model2.pt'"
   ]
  },
  {
   "cell_type": "code",
   "execution_count": 5,
   "id": "6eda868f",
   "metadata": {},
   "outputs": [],
   "source": [
    "config = QConfig(\n",
    "    device=device,\n",
    "    action_model_filename=action_model_filename,\n",
    "    sense_model_filename=sense_model_filename,\n",
    "    episodes=2620,\n",
    "    iterations=8,\n",
    "    eb_size=65536,\n",
    "    batchsize=1024,\n",
    "    tc_steps=40,\n",
    "    learning_rate=0.0001,\n",
    "    weight_decay=0.0000001,\n",
    "    gamma=0.999,\n",
    "    pg_epsilon=0.000001,\n",
    "    epl_param=EGParams(\n",
    "        epsilon_step=0,\n",
    "        epsilon_scale=200,\n",
    "        epsilon_max=0.5,\n",
    "        epsilon_min=0.02,\n",
    "        epsilon=0.5\n",
    "    )\n",
    ")\n",
    "reporter = RCEpisodicReporter(config.batchsize, 1, 1)"
   ]
  },
  {
   "cell_type": "code",
   "execution_count": null,
   "id": "6e7b6639",
   "metadata": {},
   "outputs": [],
   "source": [
    "trainer = RCQTrainer2(config, reporter)"
   ]
  },
  {
   "cell_type": "code",
   "execution_count": null,
   "id": "7dafe6d8",
   "metadata": {},
   "outputs": [],
   "source": [
    "trainer.train()"
   ]
  }
 ],
 "metadata": {
  "kernelspec": {
   "display_name": "Python 3 (ipykernel)",
   "language": "python",
   "name": "python3"
  },
  "language_info": {
   "codemirror_mode": {
    "name": "ipython",
    "version": 3
   },
   "file_extension": ".py",
   "mimetype": "text/x-python",
   "name": "python",
   "nbconvert_exporter": "python",
   "pygments_lexer": "ipython3",
   "version": "3.8.1"
  }
 },
 "nbformat": 4,
 "nbformat_minor": 5
}
